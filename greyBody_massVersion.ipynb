{
 "cells": [
  {
   "cell_type": "code",
   "execution_count": 2,
   "metadata": {
    "collapsed": true
   },
   "outputs": [],
   "source": [
    "%matplotlib inline\n",
    "import os\n",
    "import time\n",
    "import myblack\n",
    "import numpy as np\n",
    "from astropy import wcs\n",
    "from astropy import constants as cons\n",
    "from astropy import units as u\n",
    "from astropy.table import Column\n",
    "from astropy.io import ascii, fits\n",
    "from matplotlib import pyplot as plt\n",
    "import matplotlib as mpl\n",
    "from astropy.table import Column, Table\n",
    "from lmfit import minimize, Parameters, Model\n",
    "\n",
    "mpl.rc(\"font\", family=\"serif\", size=15)\n",
    "mpl.rc(\"axes\", linewidth =  1 )\n",
    "mpl.rc(\"lines\", linewidth = 1 )\n",
    "mpl.rc(\"xtick.major\", pad = 8, size = 8, width = 1)\n",
    "mpl.rc(\"ytick.major\", pad = 8, size = 8, width = 1)\n",
    "mpl.rc(\"xtick.minor\", size = 4, width = 1 )\n",
    "mpl.rc(\"ytick.minor\", size = 4, width = 1 )"
   ]
  },
  {
   "cell_type": "code",
   "execution_count": 3,
   "metadata": {
    "collapsed": true
   },
   "outputs": [],
   "source": [
    "sourList = ascii.read('./sourList.txt')"
   ]
  },
  {
   "cell_type": "code",
   "execution_count": 4,
   "metadata": {
    "collapsed": true
   },
   "outputs": [],
   "source": [
    "# Initiate the parameters\n",
    "iMass  = 1000*u.Msun # in cm^-2\n",
    "iTdust = 22.0 # in K.\n",
    "ibeta  = 2.0 # \n",
    "betaVary = False # If True, Beta will be fitted.\n",
    "                 # If False, beta will be fixed.\n",
    "betaMin = 1.0\n",
    "betaMax = 3.0\n",
    "\n",
    "# Constants\n",
    "\n",
    "h = cons.h.cgs.value   # Planck constant in CGS unit\n",
    "k = cons.k_B.cgs.value # Boltzmann constant in CGS unit\n",
    "c = cons.c.cgs.value # speed of light in CGS unit\n",
    "mH = cons.m_n.cgs.value # mass of an neutron\n",
    "muh2 = 2.8 # mean molecular weight adopted from Kauffmann et al. (2008)\n",
    "rGD = 100.0 # gas-to-dust mass ratio\n",
    "nu0 = 599.584916E9 # Reference frequency in Hz.\n",
    "kappa0 = 5.0 # Dust emissivity at reference frequency\n",
    "\n",
    "def greybody(nu, mass=iMass.cgs.value, Tdust=iTdust, beta=ibeta):\n",
    "    \n",
    "    blackBody = 2*h*nu**3/c**2/(np.exp(h*nu/k/Tdust)-1)\n",
    "    tau = mass*kappa0*(nu/nu0)**beta/d**2/rGD\n",
    "    return blackBody*tau\n",
    "\n",
    "gbMod = Model(greybody)\n",
    "\n",
    "gbMod.set_param_hint('beta', min = betaMin, max = betaMax, \n",
    "        vary = betaVary)\n",
    "gbMod.set_param_hint('Tdust',  max = 80.0)\n",
    "\n",
    "pars = gbMod.make_params(mass = iMass.cgs.value, Tdust = iTdust)"
   ]
  },
  {
   "cell_type": "code",
   "execution_count": 5,
   "metadata": {
    "collapsed": false
   },
   "outputs": [
    {
     "name": "stdout",
     "output_type": "stream",
     "text": [
      "     1   G045.4212+0.0838   4.00% finished.\n",
      "     2   G045.5356+0.1411   8.00% finished.\n",
      "     3   G048.8905-0.2649  12.00% finished.\n",
      "     4   G049.0548-0.3340  16.00% finished.\n",
      "     5   G049.2527-0.4106  20.00% finished.\n",
      "     6   G049.3228-0.3461  24.00% finished.\n",
      "     7   G049.3538-0.3538  28.00% finished.\n",
      "     8   G049.4011-0.2263  32.00% finished.\n",
      "     9   G049.4134-0.3537  36.00% finished.\n",
      "    10   G049.4739-0.2957  40.00% finished.\n",
      "    11   G049.4909-0.2857  44.00% finished.\n",
      "    12   G049.5300-0.3478  48.00% finished.\n",
      "    13   G305.0943+0.2510  52.00% finished.\n",
      "    14   G305.0955+0.0877  56.00% finished.\n",
      "    15   G305.1543+0.0477  60.00% finished.\n",
      "    16   G305.1721+0.0079  64.00% finished.\n",
      "    17   G305.2350-0.0231  68.00% finished.\n",
      "    18   G305.2581+0.3275  72.00% finished.\n",
      "    19   G305.2719-0.0309  76.00% finished.\n",
      "    20   G305.3187+0.3130  80.00% finished.\n"
     ]
    },
    {
     "name": "stderr",
     "output_type": "stream",
     "text": [
      "/Users/yuan/anaconda/lib/python3.5/site-packages/matplotlib/pyplot.py:524: RuntimeWarning: More than 20 figures have been opened. Figures created through the pyplot interface (`matplotlib.pyplot.figure`) are retained until explicitly closed and may consume too much memory. (To control this warning, see the rcParam `figure.max_open_warning`).\n",
      "  max_open_warning, RuntimeWarning)\n"
     ]
    },
    {
     "name": "stdout",
     "output_type": "stream",
     "text": [
      "    21   G305.3834+0.2565  84.00% finished.\n",
      "    22   G305.4126+0.2061  88.00% finished.\n",
      "    23   G305.5476-0.0559  92.00% finished.\n",
      "    24   G305.5890+0.4609  96.00% finished.\n",
      "    25   G307.6099-0.2937 100.00% finished.\n"
     ]
    },
    {
     "name": "stderr",
     "output_type": "stream",
     "text": [
      "WARNING: AstropyDeprecationWarning: ./sourList._with_sedResults.txt already exists. Automatically overwriting ASCII files is deprecated. Use the argument 'overwrite=True' in the future. [astropy.io.ascii.ui]\n"
     ]
    },
    {
     "data": {
      "text/plain": [
       "<matplotlib.figure.Figure at 0x1123b6d68>"
      ]
     },
     "metadata": {},
     "output_type": "display_data"
    },
    {
     "data": {
      "text/plain": [
       "<matplotlib.figure.Figure at 0x1123b6da0>"
      ]
     },
     "metadata": {},
     "output_type": "display_data"
    },
    {
     "data": {
      "text/plain": [
       "<matplotlib.figure.Figure at 0x115cb62b0>"
      ]
     },
     "metadata": {},
     "output_type": "display_data"
    },
    {
     "data": {
      "text/plain": [
       "<matplotlib.figure.Figure at 0x115cb6a58>"
      ]
     },
     "metadata": {},
     "output_type": "display_data"
    },
    {
     "data": {
      "text/plain": [
       "<matplotlib.figure.Figure at 0x115f16668>"
      ]
     },
     "metadata": {},
     "output_type": "display_data"
    },
    {
     "data": {
      "text/plain": [
       "<matplotlib.figure.Figure at 0x115f876d8>"
      ]
     },
     "metadata": {},
     "output_type": "display_data"
    },
    {
     "data": {
      "text/plain": [
       "<matplotlib.figure.Figure at 0x115f9d4e0>"
      ]
     },
     "metadata": {},
     "output_type": "display_data"
    },
    {
     "data": {
      "text/plain": [
       "<matplotlib.figure.Figure at 0x115f9dc88>"
      ]
     },
     "metadata": {},
     "output_type": "display_data"
    },
    {
     "data": {
      "text/plain": [
       "<matplotlib.figure.Figure at 0x115f19d30>"
      ]
     },
     "metadata": {},
     "output_type": "display_data"
    },
    {
     "data": {
      "text/plain": [
       "<matplotlib.figure.Figure at 0x115fa5128>"
      ]
     },
     "metadata": {},
     "output_type": "display_data"
    },
    {
     "data": {
      "text/plain": [
       "<matplotlib.figure.Figure at 0x1160869b0>"
      ]
     },
     "metadata": {},
     "output_type": "display_data"
    },
    {
     "data": {
      "text/plain": [
       "<matplotlib.figure.Figure at 0x11564b748>"
      ]
     },
     "metadata": {},
     "output_type": "display_data"
    },
    {
     "data": {
      "text/plain": [
       "<matplotlib.figure.Figure at 0x11564b630>"
      ]
     },
     "metadata": {},
     "output_type": "display_data"
    },
    {
     "data": {
      "text/plain": [
       "<matplotlib.figure.Figure at 0x115c4ada0>"
      ]
     },
     "metadata": {},
     "output_type": "display_data"
    },
    {
     "data": {
      "text/plain": [
       "<matplotlib.figure.Figure at 0x1123f8048>"
      ]
     },
     "metadata": {},
     "output_type": "display_data"
    },
    {
     "data": {
      "text/plain": [
       "<matplotlib.figure.Figure at 0x115749828>"
      ]
     },
     "metadata": {},
     "output_type": "display_data"
    },
    {
     "data": {
      "text/plain": [
       "<matplotlib.figure.Figure at 0x115c9d6a0>"
      ]
     },
     "metadata": {},
     "output_type": "display_data"
    },
    {
     "data": {
      "text/plain": [
       "<matplotlib.figure.Figure at 0x1157a60b8>"
      ]
     },
     "metadata": {},
     "output_type": "display_data"
    },
    {
     "data": {
      "text/plain": [
       "<matplotlib.figure.Figure at 0x1156c5f98>"
      ]
     },
     "metadata": {},
     "output_type": "display_data"
    },
    {
     "data": {
      "text/plain": [
       "<matplotlib.figure.Figure at 0x1123eb630>"
      ]
     },
     "metadata": {},
     "output_type": "display_data"
    },
    {
     "data": {
      "text/plain": [
       "<matplotlib.figure.Figure at 0x115f21320>"
      ]
     },
     "metadata": {},
     "output_type": "display_data"
    },
    {
     "data": {
      "text/plain": [
       "<matplotlib.figure.Figure at 0x115f59d30>"
      ]
     },
     "metadata": {},
     "output_type": "display_data"
    },
    {
     "data": {
      "text/plain": [
       "<matplotlib.figure.Figure at 0x1123e4518>"
      ]
     },
     "metadata": {},
     "output_type": "display_data"
    },
    {
     "data": {
      "text/plain": [
       "<matplotlib.figure.Figure at 0x116313ac8>"
      ]
     },
     "metadata": {},
     "output_type": "display_data"
    },
    {
     "data": {
      "text/plain": [
       "<matplotlib.figure.Figure at 0x1156e8da0>"
      ]
     },
     "metadata": {},
     "output_type": "display_data"
    }
   ],
   "source": [
    "pfmt = '%6i %18s %6.2f%% finished.'\n",
    "\n",
    "Tdust_col = []\n",
    "errTdust_col = []\n",
    "Menv_col = []\n",
    "errMenv_col = []\n",
    "\n",
    "for isour in range(len(sourList)):\n",
    "    sName = sourList['Name'][isour]\n",
    "    dis   = sourList['dis'][isour]*u.kpc\n",
    "    d   = dis.cgs.value # distance in cm\n",
    "    fluxData = np.array([sourList['S160'][isour], sourList['S250'][isour], \n",
    "                         sourList['S350'][isour], sourList['S500'][isour],\n",
    "                         sourList['S870'][isour]])*u.Jy\n",
    "    \n",
    "    fluxErr = fluxData*0.2\n",
    "\n",
    "    wavelengths = np.array([160,250,350, 500, 870]) * u.um\n",
    "    frequencies = wavelengths.to(u.Hz, u.spectral()).value.copy()\n",
    "    \n",
    "    sedResult = gbMod.fit(fluxData.cgs.value, nu = frequencies)\n",
    "    \n",
    "    T    = sedResult.params['Tdust'].value\n",
    "    errT = sedResult.params['Tdust'].stderr\n",
    "    B    = sedResult.params['beta'].value\n",
    "    errB = sedResult.params['beta'].stderr\n",
    "    M    = sedResult.params['mass'].value*u.g\n",
    "    errM = sedResult.params['mass'].stderr*u.g\n",
    "    \n",
    "    Tdust_col.append(T)\n",
    "    errTdust_col.append(errT)\n",
    "    Menv_col.append(M.to(u.Msun).value)\n",
    "    errMenv_col.append(errM.to(u.Msun).value)\n",
    "    \n",
    "    # plotting the SED\n",
    "\n",
    "\n",
    "    x = np.array(np.logspace(1,3.5, 300))*u.um\n",
    "    xFreq = x.to(u.Hz, u.spectral()).value.copy()\n",
    "    y = greybody(xFreq,Tdust = sedResult.params['Tdust'].value,\n",
    "                 mass= sedResult.params['mass'].value)*u.g/u.s/u.s\n",
    "\n",
    "    fig = plt.figure(figsize = (5,5))\n",
    "    ax  = fig.add_axes([0.1,0.1, 0.8, 0.6])\n",
    "    ax.plot(x,y.to(u.Jy).value, '-k')\n",
    "    ax.scatter(wavelengths, fluxData, color = 'black')\n",
    "    ax.set_xscale('log')\n",
    "    ax.set_yscale('log')\n",
    "    ax.set_xlim(8, 5000)\n",
    "    ax.set_ylim(np.e**(np.log(np.min(fluxData.value))-\n",
    "                     0.2*(np.log(np.max(fluxData.value))\n",
    "                          -np.log(np.min(fluxData.value)))),\n",
    "                np.e**(np.log(np.max(fluxData.value))+\n",
    "                     0.5*(np.log(np.max(fluxData.value))\n",
    "                          -np.log(np.min(fluxData.value)))))\n",
    "\n",
    "    xmin,xmax = ax.get_xlim()\n",
    "    ymin,ymax = ax.get_ylim()\n",
    "    \n",
    "    ax.text(10**(np.log10(xmin)+(np.log(xmax)-np.log(xmin))*0.03), \n",
    "            10**(np.log10(ymax)-(np.log(ymax)-np.log(ymin))*0.04), \n",
    "            sName, horizontalalignment='left')\n",
    "    \n",
    "    mLabel = (\"${ =\\ \"+'%d'%M.to(u.Msun).value+\n",
    "              \"\\pm\"+'%d'%errM.to(u.Msun).value+\"\\ M_{\\odot}}$\")\n",
    "    ax.text(10**(np.log10(xmin)+(np.log(xmax)-np.log(xmin))*0.03), \n",
    "            10**(np.log10(ymax)-(np.log(ymax)-np.log(ymin))*0.075), \n",
    "            \"$M_{env}$\", horizontalalignment='left')\n",
    "    ax.text(10**(np.log10(xmin)+(np.log(xmax)-np.log(xmin))*0.075), \n",
    "            10**(np.log10(ymax)-(np.log(ymax)-np.log(ymin))*0.075), \n",
    "            mLabel, horizontalalignment='left')\n",
    "    temLabel = (\"${=\\ \"+'%.1f'%T+\n",
    "              \"\\pm\"+'%.1f'%errT+\"\\ K}$\")\n",
    "    ax.text(10**(np.log10(xmin)+(np.log(xmax)-np.log(xmin))*0.03), \n",
    "            10**(np.log10(ymax)-(np.log(ymax)-np.log(ymin))*0.11),\n",
    "            \"$T_{dust}$\", horizontalalignment='left')\n",
    "    ax.text(10**(np.log10(xmin)+(np.log(xmax)-np.log(xmin))*0.075), \n",
    "            10**(np.log10(ymax)-(np.log(ymax)-np.log(ymin))*0.11),\n",
    "            temLabel, horizontalalignment='left')\n",
    "    \n",
    "    modelFlux = greybody(frequencies, Tdust = sedResult.params['Tdust'].value,\n",
    "                         mass= sedResult.params['mass'].value)*u.g/u.s/u.s\n",
    "    chi2 = (np.sum(((modelFlux.to(u.Jy)-\n",
    "                 fluxData)/fluxErr)**2)/(len(fluxData)-1))\n",
    "    chi2Label = (\"${=\\ \"+'%.1f'%chi2+\"}$\")\n",
    "    ax.text(10**(np.log10(xmin)+(np.log(xmax)-np.log(xmin))*0.03), \n",
    "            10**(np.log10(ymax)-(np.log(ymax)-np.log(ymin))*0.145), \n",
    "            \"$\\chi^2$\" , horizontalalignment='left')\n",
    "    ax.text(10**(np.log10(xmin)+(np.log(xmax)-np.log(xmin))*0.075), \n",
    "            10**(np.log10(ymax)-(np.log(ymax)-np.log(ymin))*0.145), \n",
    "            chi2Label, horizontalalignment='left')\n",
    "    ax.set_xlabel(\"Wavelength ($\\mu m$)\")\n",
    "    ax.set_ylabel(\"Flux (Jy)\")\n",
    "    fig.savefig('./figDir/'+sName+'_singleSED.pdf' ,\n",
    "                dpi = 300, bbox_inches='tight')\n",
    "    \n",
    "    fig.clf()\n",
    "    print(pfmt %(isour+1, sName, ((isour+1.0) / len(sourList)*100)))\n",
    "    \n",
    "# writing out the fitting results\n",
    "\n",
    "Tdust_col = Column(Tdust_col, name = 'Tdust')\n",
    "Menv_col  = Column(Menv_col, name = 'Mass_env')\n",
    "errTdust_col = Column(errTdust_col, name = 'errTdust')\n",
    "errMenv_col  = Column(errMenv_col, name = 'errMass_env')\n",
    "\n",
    "sourList.add_columns([Tdust_col, errTdust_col, \n",
    "                      Menv_col, errMenv_col])\n",
    "\n",
    "sourList.write('./sourList._with_sedResults.txt',\n",
    "               format = 'ascii.ipac')"
   ]
  },
  {
   "cell_type": "code",
   "execution_count": null,
   "metadata": {
    "collapsed": true
   },
   "outputs": [],
   "source": []
  }
 ],
 "metadata": {
  "anaconda-cloud": {},
  "kernelspec": {
   "display_name": "Python [default]",
   "language": "python",
   "name": "python3"
  },
  "language_info": {
   "codemirror_mode": {
    "name": "ipython",
    "version": 3
   },
   "file_extension": ".py",
   "mimetype": "text/x-python",
   "name": "python",
   "nbconvert_exporter": "python",
   "pygments_lexer": "ipython3",
   "version": "3.5.1"
  }
 },
 "nbformat": 4,
 "nbformat_minor": 1
}
